{
  "nbformat": 4,
  "nbformat_minor": 0,
  "metadata": {
    "colab": {
      "provenance": [],
      "gpuType": "T4"
    },
    "kernelspec": {
      "name": "python3",
      "display_name": "Python 3"
    },
    "language_info": {
      "name": "python"
    },
    "accelerator": "GPU"
  },
  "cells": [
    {
      "cell_type": "code",
      "execution_count": null,
      "metadata": {
        "id": "dbUnQu02cQLs"
      },
      "outputs": [],
      "source": [
        "import torch\n",
        "import torch.nn as nn\n",
        "import torch.nn.functional as F\n",
        "import torch.optim as optim\n",
        "import numpy as np\n",
        "import matplotlib.pyplot as plt\n",
        "from torchvision import models,transforms\n",
        "from torchvision.utils import make_grid\n",
        "from torchvision.datasets import MNIST\n",
        "from torch.utils.data.sampler import SubsetRandomSampler\n",
        "from torch.utils.tensorboard import SummaryWriter\n",
        "from torchsummary import summary\n",
        "\n",
        "import os\n",
        "\n",
        "import torchvision\n",
        "import torchvision.transforms as transforms\n",
        "from torchvision.utils import save_image\n",
        "\n",
        "from torch.utils.data import DataLoader\n",
        "from torchvision import datasets\n",
        "from torch.autograd import Variable\n",
        "\n",
        "import torch.nn as nn\n",
        "import torch.nn.functional as F\n",
        "import torch\n",
        "from tqdm import tqdm\n",
        "import matplotlib.pyplot as plt\n",
        "import random\n",
        "from IPython.display import Image\n",
        "import tifffile as tiff\n",
        "\n",
        "from torch.utils.data import Dataset, DataLoader\n",
        "import torchvision.transforms as transforms\n",
        "from torch.optim import lr_scheduler"
      ]
    },
    {
      "cell_type": "code",
      "source": [
        "# Create a directory to save generated images\n",
        "os.makedirs(\"02_mnist_images\", exist_ok=True)"
      ],
      "metadata": {
        "id": "v4DbrWTZ1SeZ"
      },
      "execution_count": null,
      "outputs": []
    },
    {
      "cell_type": "code",
      "source": [
        "# MNIST\n",
        "def mnist(batch_sz, valid_size=0.2, shuffle=True, random_seed=42):\n",
        "    num_classes = 10\n",
        "    transform_train = transforms.Compose([\n",
        "                        transforms.RandomCrop(28, padding=4),\n",
        "                        transforms.Resize(64),\n",
        "                        transforms.ToTensor(),\n",
        "                        transforms.Normalize((0.5,), (0.5,)),\n",
        "                    ])\n",
        "\n",
        "    transform_valid = transforms.Compose([\n",
        "                        transforms.ToTensor(),\n",
        "                    ])\n",
        "\n",
        "    transform_test = transforms.Compose([\n",
        "                        transforms.ToTensor(),\n",
        "                    ])\n",
        "\n",
        "\n",
        "    # Training dataset\n",
        "    train_data = MNIST(root='./datasets', train=True, download=True, transform=transform_train)\n",
        "    valid_data = MNIST(root='./datasets', train=True, download=True, transform=transform_valid)\n",
        "    num_train = len(train_data)\n",
        "    indices = list(range(num_train))\n",
        "    split = int(np.floor(valid_size * num_train))\n",
        "    if shuffle == True:\n",
        "        np.random.seed(random_seed)\n",
        "        np.random.shuffle(indices)\n",
        "    train_idx, valid_idx = indices[split:], indices[:split]\n",
        "\n",
        "    train_sampler = SubsetRandomSampler(train_idx)\n",
        "    valid_sampler = SubsetRandomSampler(valid_idx)\n",
        "    train_loader = torch.utils.data.DataLoader(train_data, batch_size=batch_sz, sampler=train_sampler,pin_memory=True)\n",
        "    valid_loader = torch.utils.data.DataLoader(valid_data, batch_size=batch_sz, sampler=valid_sampler,pin_memory=True)\n",
        "\n",
        "    # Test dataset\n",
        "    test_data = MNIST(root='./datasets', train=False, download=True, transform=transform_test)\n",
        "    test_loader = torch.utils.data.DataLoader(test_data,\n",
        "                                              batch_size=batch_sz, shuffle=False, pin_memory=True)\n",
        "\n",
        "    return train_loader, valid_loader, test_loader\n"
      ],
      "metadata": {
        "id": "bTGFdzXgcauV"
      },
      "execution_count": null,
      "outputs": []
    },
    {
      "cell_type": "code",
      "source": [
        "batch_sz=128 #\n",
        "train_loader, valid_loader, test_loader=mnist(batch_sz)"
      ],
      "metadata": {
        "id": "eWvm1CA-dHa_"
      },
      "execution_count": null,
      "outputs": []
    },
    {
      "cell_type": "code",
      "source": [
        "batch = next(iter(train_loader))\n",
        "plt.imshow(batch[0][0].permute((1,2,0)))"
      ],
      "metadata": {
        "id": "qj57oRPTdZF9",
        "colab": {
          "base_uri": "https://localhost:8080/",
          "height": 450
        },
        "outputId": "3ce37ac4-ce37-4126-9477-3b60bd38d205"
      },
      "execution_count": null,
      "outputs": [
        {
          "output_type": "execute_result",
          "data": {
            "text/plain": [
              "<matplotlib.image.AxesImage at 0x7fab0a191960>"
            ]
          },
          "metadata": {},
          "execution_count": 27
        },
        {
          "output_type": "display_data",
          "data": {
            "text/plain": [
              "<Figure size 640x480 with 1 Axes>"
            ],
            "image/png": "[encoded data removed]"
          },
          "metadata": {}
        }
      ]
    },
    {
      "cell_type": "code",
      "source": [
        "# Define the parameters for the training process\n",
        "epochs = 51\n",
        "lr = 2e-4\n",
        "b1 = 0.5\n",
        "b2 = 0.999\n",
        "latent_dim = 64 # z size\n",
        "img_size = 64\n",
        "channels = 1"
      ],
      "metadata": {
        "id": "8JlLXAjxeWrc"
      },
      "execution_count": null,
      "outputs": []
    },
    {
      "cell_type": "code",
      "source": [
        "class Generator(nn.Module):\n",
        "    def __init__(self):\n",
        "        super(Generator, self).__init__()\n",
        "\n",
        "\n",
        "        self.conv1 = nn.ConvTranspose2d(latent_dim, 512, 4, 1, 0)\n",
        "        self.batchnorm1 = nn.BatchNorm2d(512)\n",
        "        self.relu1 = nn.LeakyReLU(0.2, inplace=True)\n",
        "        self.conv2 = nn.ConvTranspose2d(512, 256, 4, 2,1)\n",
        "        self.batchnorm2 = nn.BatchNorm2d(256)\n",
        "        self.relu2 = nn.LeakyReLU(0.2, inplace=True)\n",
        "        self.conv3 = nn.ConvTranspose2d(256, 128, 4, 2, 1)\n",
        "        self.batchnorm3 = nn.BatchNorm2d(128)\n",
        "        self.relu3 = nn.LeakyReLU(0.2, inplace=True)\n",
        "        self.conv4 = nn.ConvTranspose2d(128, 64, 4, 2, 1)\n",
        "        self.batchnorm4 = nn.BatchNorm2d(64)\n",
        "        self.relu4 = nn.LeakyReLU(0.2, inplace=True)\n",
        "\n",
        "\n",
        "        self.conv5 = nn.ConvTranspose2d(64, channels, 4, 2, 1)\n",
        "        self.tanh = nn.Tanh()\n",
        "\n",
        "    def forward(self, z):\n",
        "        # z = 64,28\n",
        "\n",
        "        z = z.view(z.shape[0], z.shape[1], 1, 1)\n",
        "\n",
        "        x = self.conv1(z)\n",
        "        x = self.batchnorm1(x)\n",
        "        x = self.relu1(x)\n",
        "        x = self.conv2(x)\n",
        "\n",
        "        x = self.batchnorm2(x)\n",
        "        x = self.relu2(x)\n",
        "\n",
        "        x = self.conv3(x)\n",
        "        x = self.batchnorm3(x)\n",
        "        x = self.relu3(x)\n",
        "        x = self.conv4(x)\n",
        "        x = self.batchnorm4(x)\n",
        "        x = self.relu4(x)\n",
        "\n",
        "        img = self.conv5(x)\n",
        "\n",
        "        img = self.tanh(img)\n",
        "        return img"
      ],
      "metadata": {
        "id": "2JZ37ktzd9jE"
      },
      "execution_count": null,
      "outputs": []
    },
    {
      "cell_type": "code",
      "source": [
        "class Discriminator(nn.Module):\n",
        "    def __init__(self):\n",
        "        super(Discriminator, self).__init__()\n",
        "\n",
        "\n",
        "        self.conv1 = nn.Conv2d(1, 64, 4, 2, 1)\n",
        "        self.leakyrelu1 = nn.LeakyReLU(0.2, inplace=True)\n",
        "        self.conv2 = nn.Conv2d(64, 128, 4, 2, 1)\n",
        "        self.batchnorm2 = nn.BatchNorm2d(128)\n",
        "        self.leakyrelu2 = nn.LeakyReLU(0.2, inplace=True)\n",
        "        self.conv3 = nn.Conv2d(128, 256, 4, 2, 1)\n",
        "        self.batchnorm3 = nn.BatchNorm2d(256)\n",
        "        self.leakyrelu3 = nn.LeakyReLU(0.2, inplace=True)\n",
        "        self.conv4 = nn.Conv2d(256, 512, 4, 2, 1)\n",
        "        self.batchnorm4 = nn.BatchNorm2d(512)\n",
        "        self.leakyrelu4 = nn.LeakyReLU(0.2, inplace=True)\n",
        "        self.conv5 = nn.Conv2d(512, 1, 4, 2, 0)\n",
        "        self.sigmoid = nn.Sigmoid()\n",
        "\n",
        "    def forward(self, img):\n",
        "        x = self.conv1(img)\n",
        "        x = self.leakyrelu1(x)\n",
        "        x = self.conv2(x)\n",
        "        x = self.batchnorm2(x)\n",
        "        x = self.leakyrelu2(x)\n",
        "        x = self.conv3(x)\n",
        "        x = self.batchnorm3(x)\n",
        "        x = self.leakyrelu3(x)\n",
        "        x = self.conv4(x)\n",
        "        x = self.batchnorm4(x)\n",
        "        x = self.leakyrelu4(x)\n",
        "        validity = self.conv5(x)\n",
        "        validity = self.sigmoid(validity)\n",
        "        validity = validity.view(img.shape[0], -1)  # Flatten the output\n",
        "\n",
        "        return validity\n"
      ],
      "metadata": {
        "id": "PSBnkM-Sh7yP"
      },
      "execution_count": null,
      "outputs": []
    },
    {
      "cell_type": "code",
      "source": [
        "\n",
        "# Check if a GPU is available and if not, use a CPU\n",
        "cuda = True if torch.cuda.is_available() else False\n",
        "\n",
        "\n",
        "#\n",
        "Tensor = torch.cuda.FloatTensor if cuda else torch.FloatTensor"
      ],
      "metadata": {
        "id": "nZ4XT8fUkFxk"
      },
      "execution_count": null,
      "outputs": []
    },
    {
      "cell_type": "code",
      "source": [
        "gen = Generator()\n",
        "print(gen)"
      ],
      "metadata": {
        "id": "oAef3RdWLX1V",
        "colab": {
          "base_uri": "https://localhost:8080/"
        },
        "outputId": "5644f44c-ab50-4326-a0f3-c8cbe98d11c5"
      },
      "execution_count": null,
      "outputs": [
        {
          "output_type": "stream",
          "name": "stdout",
          "text": [
            "Generator(\n",
            "  (conv1): ConvTranspose2d(64, 512, kernel_size=(4, 4), stride=(1, 1))\n",
            "  (batchnorm1): BatchNorm2d(512, eps=1e-05, momentum=0.1, affine=True, track_running_stats=True)\n",
            "  (relu1): LeakyReLU(negative_slope=0.2, inplace=True)\n",
            "  (conv2): ConvTranspose2d(512, 256, kernel_size=(4, 4), stride=(2, 2), padding=(1, 1))\n",
            "  (batchnorm2): BatchNorm2d(256, eps=1e-05, momentum=0.1, affine=True, track_running_stats=True)\n",
            "  (relu2): LeakyReLU(negative_slope=0.2, inplace=True)\n",
            "  (conv3): ConvTranspose2d(256, 128, kernel_size=(4, 4), stride=(2, 2), padding=(1, 1))\n",
            "  (batchnorm3): BatchNorm2d(128, eps=1e-05, momentum=0.1, affine=True, track_running_stats=True)\n",
            "  (relu3): LeakyReLU(negative_slope=0.2, inplace=True)\n",
            "  (conv4): ConvTranspose2d(128, 64, kernel_size=(4, 4), stride=(2, 2), padding=(1, 1))\n",
            "  (batchnorm4): BatchNorm2d(64, eps=1e-05, momentum=0.1, affine=True, track_running_stats=True)\n",
            "  (relu4): LeakyReLU(negative_slope=0.2, inplace=True)\n",
            "  (conv5): ConvTranspose2d(64, 1, kernel_size=(4, 4), stride=(2, 2), padding=(1, 1))\n",
            "  (tanh): Tanh()\n",
            ")\n"
          ]
        }
      ]
    },
    {
      "cell_type": "code",
      "source": [
        "# We use binary cross-entropy loss for the adversarial loss function\n",
        "adversarial_loss = torch.nn.BCELoss()\n",
        "\n",
        "# Initialize the generator and the discriminator\n",
        "generator = Generator()\n",
        "discriminator = Discriminator()\n",
        "\n",
        "# If CUDA is available, we use it for the models and the loss function\n",
        "if cuda:\n",
        "    generator.cuda()\n",
        "    discriminator.cuda()\n",
        "    adversarial_loss.cuda()\n",
        "\n",
        "# We use the Adam optimizer for both the generator and the discriminator\n",
        "optimizer_G = torch.optim.Adam(generator.parameters(), lr=lr, betas=(b1, b2))\n",
        "optimizer_D = torch.optim.Adam(discriminator.parameters(), lr=lr, betas=(b1, b2))\n",
        "\n",
        "# Initialize schedulers\n",
        "scheduler_G = lr_scheduler.StepLR(optimizer_G, step_size=30, gamma=0.1)\n",
        "scheduler_D = lr_scheduler.StepLR(optimizer_D, step_size=30, gamma=0.1)\n",
        "\n",
        "Tensor = torch.cuda.FloatTensor if cuda else torch.FloatTensor\n",
        "\n",
        "# Initialize lists to store losses for Generator and Discriminator\n",
        "g_losses = []\n",
        "d_losses = []\n",
        "\n",
        "# Training Loop\n",
        "for epoch in tqdm(range(epochs)):\n",
        "    g_loss_accum = 0.0\n",
        "    d_loss_accum = 0.0\n",
        "    num_batches = 0\n",
        "\n",
        "    for batch in train_loader:\n",
        "        imgs = batch[0]\n",
        "\n",
        "        # Ground truths for real and fake images (real: 1, fake: 0)\n",
        "        valid = Variable(Tensor(imgs.shape[0], 1).fill_(1.0), requires_grad=False)\n",
        "        fake = Variable(Tensor(imgs.shape[0], 1).fill_(0.0), requires_grad=False)\n",
        "        # Configure input, this will be used for training the discriminator with real images\n",
        "        real_imgs = imgs.type(Tensor)\n",
        "\n",
        "        # Train Generator\n",
        "        optimizer_G.zero_grad()\n",
        "\n",
        "        # Sample noise as generator input\n",
        "        z = Variable(Tensor(np.random.normal(0, 1, (imgs.shape[0], latent_dim))))\n",
        "        # Generate a batch of images from the noise\n",
        "        gen_imgs = generator(z)\n",
        "        # Loss measures generator's ability to fool the discriminator\n",
        "        g_loss = adversarial_loss(discriminator(gen_imgs), valid)\n",
        "\n",
        "\n",
        "        g_loss.backward()\n",
        "        optimizer_G.step()\n",
        "\n",
        "        #----------------------------- Train Discriminator -----------------------------\n",
        "        optimizer_D.zero_grad()\n",
        "\n",
        "        # Measure discriminator's ability to classify real from generated samples\n",
        "        real_loss = adversarial_loss(discriminator(real_imgs), valid)  # Loss for real images\n",
        "        fake_loss = adversarial_loss(discriminator(gen_imgs.detach()), fake)\n",
        "\n",
        "        d_loss = (real_loss + fake_loss) / 2\n",
        "\n",
        "        d_loss.backward()\n",
        "        optimizer_D.step()\n",
        "\n",
        "        # Accumulate losses for this batch\n",
        "        g_loss_accum += g_loss.item()\n",
        "        d_loss_accum += d_loss.item()\n",
        "        num_batches += 1\n",
        "\n",
        "    # Step the learning rate\n",
        "    scheduler_G.step()\n",
        "    scheduler_D.step()\n",
        "\n",
        "    # Save average losses for this epoch\n",
        "    g_losses.append(g_loss_accum / num_batches)\n",
        "    d_losses.append(d_loss_accum / num_batches)\n",
        "    # Save a batch of generated images every 10 epochs\n",
        "    if epoch % 5 == 0:\n",
        "        save_image(gen_imgs.data[:25], f\"02_mnist_images/epoch_{epoch}.png\", nrow=5, normalize=True)"
      ],
      "metadata": {
        "id": "xQEmUYVnkLYB",
        "colab": {
          "base_uri": "https://localhost:8080/"
        },
        "outputId": "b230dd98-131a-4439-dad5-1d8f0d06d427"
      },
      "execution_count": null,
      "outputs": [
        {
          "output_type": "stream",
          "name": "stderr",
          "text": [
            " 25%|██▌       | 13/51 [14:38<42:48, 67.59s/it]"
          ]
        }
      ]
    },
    {
      "cell_type": "code",
      "source": [
        "\n",
        "# Plotting the losses\n",
        "plt.figure(figsize=(10,5))\n",
        "plt.title(\"Generator and Discriminator Loss During Training\")\n",
        "plt.plot(g_losses,label=\"Generator\")\n",
        "plt.plot(d_losses,label=\"Discriminator\")\n",
        "plt.xlabel(\"epochs\")\n",
        "plt.ylabel(\"Loss\")\n",
        "plt.legend()\n",
        "plt.show()\n"
      ],
      "metadata": {
        "id": "DQINju8ekT5m"
      },
      "execution_count": null,
      "outputs": []
    },
    {
      "cell_type": "code",
      "source": [
        "# Function to unnormalize and bring back the pixel values to (0, 1)\n",
        "def imshow(img):\n",
        "    img = img * 0.5 + 0.5  # unnormalize back to range [0, 1]\n",
        "    npimg = img.numpy()\n",
        "    plt.imshow(np.transpose(npimg, (1, 2, 0)))  # Transpose to put channel last (which is the expected format for matplotlib)\n",
        "    plt.show()"
      ],
      "metadata": {
        "id": "74CUbnVv4ULz"
      },
      "execution_count": null,
      "outputs": []
    },
    {
      "cell_type": "code",
      "source": [
        "# Make a grid from the batch and show it (generated data)\n",
        "imshow(torchvision.utils.make_grid(gen_imgs.detach().cpu()))\n"
      ],
      "metadata": {
        "id": "4lDHNeiMkamN"
      },
      "execution_count": null,
      "outputs": []
    }
  ]
}